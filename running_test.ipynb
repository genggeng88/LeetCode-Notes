{
 "cells": [
  {
   "cell_type": "code",
   "execution_count": 19,
   "metadata": {},
   "outputs": [],
   "source": [
    "def closeStrings(word1: str, word2: str) -> bool:\n",
    "        n1, n2 = len(word1), len(word2)\n",
    "        d1, d2 = dict(), dict()\n",
    "\n",
    "        for i in range(n1):\n",
    "            if word1[i] in d1:\n",
    "                d1[word1[i]] += 1\n",
    "            else:\n",
    "                d1[word1[i]] = 1\n",
    "\n",
    "        for i in range(n2):\n",
    "            if word2[i] in d2:\n",
    "                d2[word2[i]] += 1\n",
    "            else:\n",
    "                d2[word2[i]] = 1\n",
    "        \n",
    "        k1 = d1.keys()\n",
    "        k2 = d2.keys()\n",
    "\n",
    "        print(k1)\n",
    "        print(k2)\n",
    "        print(k1 == k2)\n",
    "\n",
    "        v1 = sorted(d1.values())\n",
    "        v2 = sorted(d2.values())\n",
    "\n",
    "        print(v1)\n",
    "        print(v2)\n",
    "\n",
    "        return v1 == v2"
   ]
  },
  {
   "cell_type": "code",
   "execution_count": 20,
   "metadata": {},
   "outputs": [
    {
     "name": "stdout",
     "output_type": "stream",
     "text": [
      "dict_keys(['a'])\n",
      "dict_keys(['a'])\n",
      "True\n",
      "[1]\n",
      "[2]\n"
     ]
    },
    {
     "data": {
      "text/plain": [
       "False"
      ]
     },
     "execution_count": 20,
     "metadata": {},
     "output_type": "execute_result"
    }
   ],
   "source": [
    "word1 = \"a\"\n",
    "word2 = \"aa\"\n",
    "closeStrings(word1=word1, word2=word2)"
   ]
  },
  {
   "cell_type": "code",
   "execution_count": 23,
   "metadata": {},
   "outputs": [
    {
     "name": "stdout",
     "output_type": "stream",
     "text": [
      "None\n"
     ]
    }
   ],
   "source": [
    "my_dict = {'a': 3, 'b': 1, 'c': 2}\n",
    "values = list(my_dict.values())  # Convert values to a list\n",
    "values.sort()  # Sort the list in place\n",
    "print(values)  # Output: [1, 2, 3]"
   ]
  },
  {
   "cell_type": "code",
   "execution_count": 1,
   "metadata": {},
   "outputs": [
    {
     "name": "stdout",
     "output_type": "stream",
     "text": [
      "abcabcabc\n"
     ]
    }
   ],
   "source": [
    "s = 'abc'\n",
    "print(s * 3)"
   ]
  },
  {
   "cell_type": "code",
   "execution_count": 24,
   "metadata": {},
   "outputs": [],
   "source": [
    "# Definition for singly-linked list.\n",
    "class ListNode:\n",
    "    def __init__(self, val=0, next=None):\n",
    "        self.val = val\n",
    "        self.next = next\n",
    "\n",
    "def addTwoNumbers(l1, l2):\n",
    "    def get_val(head):\n",
    "        acc = 0\n",
    "        ans = 0\n",
    "        while head:\n",
    "            ans += 10**acc*head.val\n",
    "            head = head.next\n",
    "            acc += 1\n",
    "        return ans\n",
    "    \n",
    "    def get_tree(num):\n",
    "        if num == 0:\n",
    "            return ListNode(0)\n",
    "        head = ListNode(num % 10)\n",
    "        curr = head\n",
    "        num //= 10\n",
    "        while num > 0:\n",
    "            curr.next = ListNode(num % 10)\n",
    "            curr = curr.next\n",
    "            num //= 10\n",
    "        return head\n",
    "    \n",
    "    n1 = get_val(l1)\n",
    "    n2 = get_val(l2)\n",
    "    print(n1, n2)\n",
    "    return get_tree(n1+n1)"
   ]
  },
  {
   "cell_type": "code",
   "execution_count": 25,
   "metadata": {},
   "outputs": [
    {
     "name": "stdout",
     "output_type": "stream",
     "text": [
      "342 465\n"
     ]
    },
    {
     "data": {
      "text/plain": [
       "<__main__.ListNode at 0x7fbb78e779d0>"
      ]
     },
     "execution_count": 25,
     "metadata": {},
     "output_type": "execute_result"
    }
   ],
   "source": [
    "l1 = ListNode(2)\n",
    "l1.next = ListNode(4)\n",
    "l1.next.next = ListNode(3)\n",
    "\n",
    "l2 = ListNode(5)\n",
    "l2.next = ListNode(6)\n",
    "l2.next.next = ListNode(4)\n",
    "\n",
    "addTwoNumbers(l1, l2)"
   ]
  },
  {
   "cell_type": "code",
   "execution_count": 30,
   "metadata": {},
   "outputs": [],
   "source": [
    "from collections import defaultdict\n",
    "\n",
    "def isIsomorphic(s: str, t: str) -> bool:\n",
    "    schars = defaultdict(int)\n",
    "    tchars = defaultdict(int)\n",
    "    for c in s:\n",
    "        schars[c] += 1\n",
    "    for c in t:\n",
    "        tchars[c] += 1\n",
    "    slist = list(schars.values()).sort()\n",
    "    tlist = list(tchars.values()).sort()\n",
    "    print(slist)\n",
    "    print(tlist)\n",
    "    return slist == tlist"
   ]
  },
  {
   "cell_type": "code",
   "execution_count": 31,
   "metadata": {},
   "outputs": [
    {
     "name": "stdout",
     "output_type": "stream",
     "text": [
      "None\n",
      "None\n"
     ]
    },
    {
     "data": {
      "text/plain": [
       "True"
      ]
     },
     "execution_count": 31,
     "metadata": {},
     "output_type": "execute_result"
    }
   ],
   "source": [
    "isIsomorphic(\"foo\", \"bar\")"
   ]
  },
  {
   "cell_type": "code",
   "execution_count": 3,
   "metadata": {},
   "outputs": [],
   "source": [
    "def myPow(x: float, n: int) -> float:\n",
    "    if n == 0:\n",
    "        return 1.\n",
    "    if n < 0:\n",
    "        x = 1./x\n",
    "        n = -n\n",
    "    if n == 1:\n",
    "        return x\n",
    "    \n",
    "    res = 1\n",
    "    while n > 0:\n",
    "        if n % 2 == 1:\n",
    "            res *= x\n",
    "            n -= 1\n",
    "            print(f\"res = {res} and n = {n}\")\n",
    "        else:\n",
    "            x *= x\n",
    "            n //= 2\n",
    "            print(f\"x = {x} and n = {n}\")\n",
    "    return res * x"
   ]
  },
  {
   "cell_type": "code",
   "execution_count": 4,
   "metadata": {},
   "outputs": [
    {
     "name": "stdout",
     "output_type": "stream",
     "text": [
      "x = 4.0 and n = 5\n",
      "res = 4.0 and n = 4\n",
      "x = 16.0 and n = 2\n",
      "x = 256.0 and n = 1\n",
      "res = 1024.0 and n = 0\n"
     ]
    },
    {
     "data": {
      "text/plain": [
       "262144.0"
      ]
     },
     "execution_count": 4,
     "metadata": {},
     "output_type": "execute_result"
    }
   ],
   "source": [
    "myPow(2.0, 10)"
   ]
  },
  {
   "cell_type": "code",
   "execution_count": 12,
   "metadata": {},
   "outputs": [],
   "source": [
    "def trailingZeroes( n: int) -> int:\n",
    "    odd = 1\n",
    "    k = n//2 - 1\n",
    "\n",
    "    if n%2 == 1:\n",
    "        odd = (n+1)//2\n",
    "\n",
    "    first = (k+1)*n\n",
    "    second = (n-1)*k*(k+1)//2\n",
    "    third = -k*(k+1)*(2*k-1)//6\n",
    "    fac = odd*(first + second + third)\n",
    "    fac = int(fac)\n",
    "    ans = 0\n",
    "    print(fac)\n",
    "    while fac > 0:\n",
    "        if fac % 10 == 0:\n",
    "            ans += 1\n",
    "        fac //= 10\n",
    "    return ans"
   ]
  },
  {
   "cell_type": "code",
   "execution_count": 1,
   "metadata": {},
   "outputs": [
    {
     "name": "stdout",
     "output_type": "stream",
     "text": [
      "Current position: 1, moves: 0\n",
      "Next cell: 15, dest: 15\n",
      "Queue updated: deque([(15, 1)])\n",
      "Next cell: 3, dest: -1\n",
      "Queue updated: deque([(15, 1), (3, 1)])\n",
      "Next cell: 4, dest: -1\n",
      "Queue updated: deque([(15, 1), (3, 1), (4, 1)])\n",
      "Next cell: 5, dest: -1\n",
      "Queue updated: deque([(15, 1), (3, 1), (4, 1), (5, 1)])\n",
      "Next cell: 6, dest: -1\n",
      "Queue updated: deque([(15, 1), (3, 1), (4, 1), (5, 1), (6, 1)])\n",
      "Next cell: 7, dest: -1\n",
      "Queue updated: deque([(15, 1), (3, 1), (4, 1), (5, 1), (6, 1), (7, 1)])\n",
      "Current position: 15, moves: 1\n",
      "Next cell: 16, dest: -1\n",
      "Queue updated: deque([(3, 1), (4, 1), (5, 1), (6, 1), (7, 1), (16, 2)])\n",
      "Next cell: 13, dest: 13\n",
      "Queue updated: deque([(3, 1), (4, 1), (5, 1), (6, 1), (7, 1), (16, 2), (13, 2)])\n",
      "Next cell: 18, dest: -1\n",
      "Queue updated: deque([(3, 1), (4, 1), (5, 1), (6, 1), (7, 1), (16, 2), (13, 2), (18, 2)])\n",
      "Next cell: 19, dest: -1\n",
      "Queue updated: deque([(3, 1), (4, 1), (5, 1), (6, 1), (7, 1), (16, 2), (13, 2), (18, 2), (19, 2)])\n",
      "Next cell: 20, dest: -1\n",
      "Queue updated: deque([(3, 1), (4, 1), (5, 1), (6, 1), (7, 1), (16, 2), (13, 2), (18, 2), (19, 2), (20, 2)])\n",
      "Next cell: 21, dest: -1\n",
      "Queue updated: deque([(3, 1), (4, 1), (5, 1), (6, 1), (7, 1), (16, 2), (13, 2), (18, 2), (19, 2), (20, 2), (21, 2)])\n",
      "Current position: 3, moves: 1\n",
      "Next cell: 4, dest: -1\n",
      "Next cell: 5, dest: -1\n",
      "Next cell: 6, dest: -1\n",
      "Next cell: 7, dest: -1\n",
      "Next cell: 8, dest: -1\n",
      "Queue updated: deque([(4, 1), (5, 1), (6, 1), (7, 1), (16, 2), (13, 2), (18, 2), (19, 2), (20, 2), (21, 2), (8, 2)])\n",
      "Next cell: 9, dest: -1\n",
      "Queue updated: deque([(4, 1), (5, 1), (6, 1), (7, 1), (16, 2), (13, 2), (18, 2), (19, 2), (20, 2), (21, 2), (8, 2), (9, 2)])\n",
      "Current position: 4, moves: 1\n",
      "Next cell: 5, dest: -1\n",
      "Next cell: 6, dest: -1\n",
      "Next cell: 7, dest: -1\n",
      "Next cell: 8, dest: -1\n",
      "Next cell: 9, dest: -1\n",
      "Next cell: 10, dest: -1\n",
      "Queue updated: deque([(5, 1), (6, 1), (7, 1), (16, 2), (13, 2), (18, 2), (19, 2), (20, 2), (21, 2), (8, 2), (9, 2), (10, 2)])\n",
      "Current position: 5, moves: 1\n",
      "Next cell: 6, dest: -1\n",
      "Next cell: 7, dest: -1\n",
      "Next cell: 8, dest: -1\n",
      "Next cell: 9, dest: -1\n",
      "Next cell: 10, dest: -1\n",
      "Next cell: 11, dest: -1\n",
      "Queue updated: deque([(6, 1), (7, 1), (16, 2), (13, 2), (18, 2), (19, 2), (20, 2), (21, 2), (8, 2), (9, 2), (10, 2), (11, 2)])\n",
      "Current position: 6, moves: 1\n",
      "Next cell: 7, dest: -1\n",
      "Next cell: 8, dest: -1\n",
      "Next cell: 9, dest: -1\n",
      "Next cell: 10, dest: -1\n",
      "Next cell: 11, dest: -1\n",
      "Next cell: 12, dest: -1\n",
      "Queue updated: deque([(7, 1), (16, 2), (13, 2), (18, 2), (19, 2), (20, 2), (21, 2), (8, 2), (9, 2), (10, 2), (11, 2), (12, 2)])\n",
      "Current position: 7, moves: 1\n",
      "Next cell: 8, dest: -1\n",
      "Next cell: 9, dest: -1\n",
      "Next cell: 10, dest: -1\n",
      "Next cell: 11, dest: -1\n",
      "Next cell: 12, dest: -1\n",
      "Next cell: 13, dest: -1\n",
      "Current position: 16, moves: 2\n",
      "Next cell: 13, dest: 13\n",
      "Next cell: 18, dest: -1\n",
      "Next cell: 19, dest: -1\n",
      "Next cell: 20, dest: -1\n",
      "Next cell: 21, dest: -1\n",
      "Next cell: 22, dest: -1\n",
      "Queue updated: deque([(13, 2), (18, 2), (19, 2), (20, 2), (21, 2), (8, 2), (9, 2), (10, 2), (11, 2), (12, 2), (22, 3)])\n",
      "Current position: 13, moves: 2\n",
      "Next cell: 35, dest: 35\n",
      "Queue updated: deque([(18, 2), (19, 2), (20, 2), (21, 2), (8, 2), (9, 2), (10, 2), (11, 2), (12, 2), (22, 3), (35, 3)])\n",
      "Next cell: 15, dest: -1\n",
      "Next cell: 16, dest: -1\n",
      "Next cell: 13, dest: 13\n",
      "Next cell: 18, dest: -1\n",
      "Next cell: 19, dest: -1\n",
      "Current position: 18, moves: 2\n",
      "Next cell: 19, dest: -1\n",
      "Next cell: 20, dest: -1\n",
      "Next cell: 21, dest: -1\n",
      "Next cell: 22, dest: -1\n",
      "Next cell: 23, dest: -1\n",
      "Queue updated: deque([(19, 2), (20, 2), (21, 2), (8, 2), (9, 2), (10, 2), (11, 2), (12, 2), (22, 3), (35, 3), (23, 3)])\n",
      "Next cell: 24, dest: -1\n",
      "Queue updated: deque([(19, 2), (20, 2), (21, 2), (8, 2), (9, 2), (10, 2), (11, 2), (12, 2), (22, 3), (35, 3), (23, 3), (24, 3)])\n",
      "Current position: 19, moves: 2\n",
      "Next cell: 20, dest: -1\n",
      "Next cell: 21, dest: -1\n",
      "Next cell: 22, dest: -1\n",
      "Next cell: 23, dest: -1\n",
      "Next cell: 24, dest: -1\n",
      "Next cell: 25, dest: -1\n",
      "Queue updated: deque([(20, 2), (21, 2), (8, 2), (9, 2), (10, 2), (11, 2), (12, 2), (22, 3), (35, 3), (23, 3), (24, 3), (25, 3)])\n",
      "Current position: 20, moves: 2\n",
      "Next cell: 21, dest: -1\n",
      "Next cell: 22, dest: -1\n",
      "Next cell: 23, dest: -1\n",
      "Next cell: 24, dest: -1\n",
      "Next cell: 25, dest: -1\n",
      "Next cell: 26, dest: -1\n",
      "Queue updated: deque([(21, 2), (8, 2), (9, 2), (10, 2), (11, 2), (12, 2), (22, 3), (35, 3), (23, 3), (24, 3), (25, 3), (26, 3)])\n",
      "Current position: 21, moves: 2\n",
      "Next cell: 22, dest: -1\n",
      "Next cell: 23, dest: -1\n",
      "Next cell: 24, dest: -1\n",
      "Next cell: 25, dest: -1\n",
      "Next cell: 26, dest: -1\n",
      "Next cell: 27, dest: -1\n",
      "Queue updated: deque([(8, 2), (9, 2), (10, 2), (11, 2), (12, 2), (22, 3), (35, 3), (23, 3), (24, 3), (25, 3), (26, 3), (27, 3)])\n",
      "Current position: 8, moves: 2\n",
      "Next cell: 9, dest: -1\n",
      "Next cell: 10, dest: -1\n",
      "Next cell: 11, dest: -1\n",
      "Next cell: 12, dest: -1\n",
      "Next cell: 13, dest: -1\n",
      "Next cell: 35, dest: 35\n",
      "Current position: 9, moves: 2\n",
      "Next cell: 10, dest: -1\n",
      "Next cell: 11, dest: -1\n",
      "Next cell: 12, dest: -1\n",
      "Next cell: 13, dest: -1\n",
      "Next cell: 35, dest: 35\n",
      "Next cell: 15, dest: -1\n",
      "Current position: 10, moves: 2\n",
      "Next cell: 11, dest: -1\n",
      "Next cell: 12, dest: -1\n",
      "Next cell: 13, dest: -1\n",
      "Next cell: 35, dest: 35\n",
      "Next cell: 15, dest: -1\n",
      "Next cell: 16, dest: -1\n",
      "Current position: 11, moves: 2\n",
      "Next cell: 12, dest: -1\n",
      "Next cell: 13, dest: -1\n",
      "Next cell: 35, dest: 35\n",
      "Next cell: 15, dest: -1\n",
      "Next cell: 16, dest: -1\n",
      "Next cell: 13, dest: 13\n",
      "Current position: 12, moves: 2\n",
      "Next cell: 13, dest: -1\n",
      "Next cell: 35, dest: 35\n",
      "Next cell: 15, dest: -1\n",
      "Next cell: 16, dest: -1\n",
      "Next cell: 13, dest: 13\n",
      "Next cell: 18, dest: -1\n",
      "Current position: 22, moves: 3\n",
      "Next cell: 23, dest: -1\n",
      "Next cell: 24, dest: -1\n",
      "Next cell: 25, dest: -1\n",
      "Next cell: 26, dest: -1\n",
      "Next cell: 27, dest: -1\n",
      "Next cell: 28, dest: -1\n",
      "Queue updated: deque([(35, 3), (23, 3), (24, 3), (25, 3), (26, 3), (27, 3), (28, 4)])\n",
      "Current position: 35, moves: 3\n",
      "Next cell: 36, dest: -1\n",
      "4\n"
     ]
    }
   ],
   "source": [
    "from collections import deque\n",
    "from typing import List\n",
    "\n",
    "class Solution:\n",
    "    def snakesAndLadders(self, board: List[List[int]]) -> int:\n",
    "        n = len(board)\n",
    "\n",
    "        def get_val(k):\n",
    "            rows, res = divmod(k-1, n)\n",
    "            r = n-1-rows\n",
    "            c = res if rows % 2 == 0 else n-1-res\n",
    "            return board[r][c]\n",
    "\n",
    "        visited = set([1])\n",
    "        queue = deque([(1, 0)])\n",
    "\n",
    "        while queue:\n",
    "            curr, moves = queue.popleft()\n",
    "            for next_cell in range(curr+1, curr+7):\n",
    "                if next_cell <= n*n:\n",
    "                    dest = get_val(next_cell)\n",
    "                    if dest != -1:\n",
    "                        next_cell = dest\n",
    "                    if next_cell == n*n:\n",
    "                        return moves + 1\n",
    "                    if next_cell not in visited:\n",
    "                        visited.add(next_cell)\n",
    "                        queue.append((next_cell, moves + 1))\n",
    "        \n",
    "        return -1\n",
    "\n",
    "# Example usage:\n",
    "board = [\n",
    "    [-1,-1,-1,-1,-1,-1],\n",
    "    [-1,-1,-1,-1,-1,-1],\n",
    "    [-1,-1,-1,-1,-1,-1],\n",
    "    [-1,35,-1,-1,13,-1],\n",
    "    [-1,-1,-1,-1,-1,-1],\n",
    "    [-1,15,-1,-1,-1,-1]\n",
    "]\n",
    "solution = Solution()\n",
    "print(solution.snakesAndLadders(board))\n"
   ]
  }
 ],
 "metadata": {
  "interpreter": {
   "hash": "e08ceab4126862489fa0aa1587748cccf75717cd3496db46aee2ccbbdd24659f"
  },
  "kernelspec": {
   "display_name": "Python 3.8.18 64-bit ('plasma': conda)",
   "name": "python3"
  },
  "language_info": {
   "codemirror_mode": {
    "name": "ipython",
    "version": 3
   },
   "file_extension": ".py",
   "mimetype": "text/x-python",
   "name": "python",
   "nbconvert_exporter": "python",
   "pygments_lexer": "ipython3",
   "version": "3.8.18"
  }
 },
 "nbformat": 4,
 "nbformat_minor": 5
}
