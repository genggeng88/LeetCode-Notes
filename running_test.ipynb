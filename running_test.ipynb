{
 "cells": [
  {
   "cell_type": "code",
   "execution_count": 19,
   "metadata": {},
   "outputs": [],
   "source": [
    "def closeStrings(word1: str, word2: str) -> bool:\n",
    "        n1, n2 = len(word1), len(word2)\n",
    "        d1, d2 = dict(), dict()\n",
    "\n",
    "        for i in range(n1):\n",
    "            if word1[i] in d1:\n",
    "                d1[word1[i]] += 1\n",
    "            else:\n",
    "                d1[word1[i]] = 1\n",
    "\n",
    "        for i in range(n2):\n",
    "            if word2[i] in d2:\n",
    "                d2[word2[i]] += 1\n",
    "            else:\n",
    "                d2[word2[i]] = 1\n",
    "        \n",
    "        k1 = d1.keys()\n",
    "        k2 = d2.keys()\n",
    "\n",
    "        print(k1)\n",
    "        print(k2)\n",
    "        print(k1 == k2)\n",
    "\n",
    "        v1 = sorted(d1.values())\n",
    "        v2 = sorted(d2.values())\n",
    "\n",
    "        print(v1)\n",
    "        print(v2)\n",
    "\n",
    "        return v1 == v2"
   ]
  },
  {
   "cell_type": "code",
   "execution_count": 20,
   "metadata": {},
   "outputs": [
    {
     "name": "stdout",
     "output_type": "stream",
     "text": [
      "dict_keys(['a'])\n",
      "dict_keys(['a'])\n",
      "True\n",
      "[1]\n",
      "[2]\n"
     ]
    },
    {
     "data": {
      "text/plain": [
       "False"
      ]
     },
     "execution_count": 20,
     "metadata": {},
     "output_type": "execute_result"
    }
   ],
   "source": [
    "word1 = \"a\"\n",
    "word2 = \"aa\"\n",
    "closeStrings(word1=word1, word2=word2)"
   ]
  },
  {
   "cell_type": "code",
   "execution_count": 23,
   "metadata": {},
   "outputs": [
    {
     "name": "stdout",
     "output_type": "stream",
     "text": [
      "None\n"
     ]
    }
   ],
   "source": [
    "my_dict = {'a': 3, 'b': 1, 'c': 2}\n",
    "values = list(my_dict.values())  # Convert values to a list\n",
    "values.sort()  # Sort the list in place\n",
    "print(values)  # Output: [1, 2, 3]"
   ]
  },
  {
   "cell_type": "code",
   "execution_count": 1,
   "metadata": {},
   "outputs": [
    {
     "name": "stdout",
     "output_type": "stream",
     "text": [
      "abcabcabc\n"
     ]
    }
   ],
   "source": [
    "s = 'abc'\n",
    "print(s * 3)"
   ]
  },
  {
   "cell_type": "code",
   "execution_count": null,
   "metadata": {},
   "outputs": [],
   "source": []
  }
 ],
 "metadata": {
  "interpreter": {
   "hash": "e08ceab4126862489fa0aa1587748cccf75717cd3496db46aee2ccbbdd24659f"
  },
  "kernelspec": {
   "display_name": "Python 3.8.18 64-bit ('plasma': conda)",
   "name": "python3"
  },
  "language_info": {
   "codemirror_mode": {
    "name": "ipython",
    "version": 3
   },
   "file_extension": ".py",
   "mimetype": "text/x-python",
   "name": "python",
   "nbconvert_exporter": "python",
   "pygments_lexer": "ipython3",
   "version": "3.8.18"
  }
 },
 "nbformat": 4,
 "nbformat_minor": 5
}
