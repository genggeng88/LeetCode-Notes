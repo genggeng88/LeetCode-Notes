{
 "cells": [
  {
   "cell_type": "code",
   "execution_count": 19,
   "metadata": {},
   "outputs": [],
   "source": [
    "def closeStrings(word1: str, word2: str) -> bool:\n",
    "        n1, n2 = len(word1), len(word2)\n",
    "        d1, d2 = dict(), dict()\n",
    "\n",
    "        for i in range(n1):\n",
    "            if word1[i] in d1:\n",
    "                d1[word1[i]] += 1\n",
    "            else:\n",
    "                d1[word1[i]] = 1\n",
    "\n",
    "        for i in range(n2):\n",
    "            if word2[i] in d2:\n",
    "                d2[word2[i]] += 1\n",
    "            else:\n",
    "                d2[word2[i]] = 1\n",
    "        \n",
    "        k1 = d1.keys()\n",
    "        k2 = d2.keys()\n",
    "\n",
    "        print(k1)\n",
    "        print(k2)\n",
    "        print(k1 == k2)\n",
    "\n",
    "        v1 = sorted(d1.values())\n",
    "        v2 = sorted(d2.values())\n",
    "\n",
    "        print(v1)\n",
    "        print(v2)\n",
    "\n",
    "        return v1 == v2"
   ]
  },
  {
   "cell_type": "code",
   "execution_count": 20,
   "metadata": {},
   "outputs": [
    {
     "name": "stdout",
     "output_type": "stream",
     "text": [
      "dict_keys(['a'])\n",
      "dict_keys(['a'])\n",
      "True\n",
      "[1]\n",
      "[2]\n"
     ]
    },
    {
     "data": {
      "text/plain": [
       "False"
      ]
     },
     "execution_count": 20,
     "metadata": {},
     "output_type": "execute_result"
    }
   ],
   "source": [
    "word1 = \"a\"\n",
    "word2 = \"aa\"\n",
    "closeStrings(word1=word1, word2=word2)"
   ]
  },
  {
   "cell_type": "code",
   "execution_count": 23,
   "metadata": {},
   "outputs": [
    {
     "name": "stdout",
     "output_type": "stream",
     "text": [
      "None\n"
     ]
    }
   ],
   "source": [
    "my_dict = {'a': 3, 'b': 1, 'c': 2}\n",
    "values = list(my_dict.values())  # Convert values to a list\n",
    "values.sort()  # Sort the list in place\n",
    "print(values)  # Output: [1, 2, 3]"
   ]
  },
  {
   "cell_type": "code",
   "execution_count": 1,
   "metadata": {},
   "outputs": [
    {
     "name": "stdout",
     "output_type": "stream",
     "text": [
      "abcabcabc\n"
     ]
    }
   ],
   "source": [
    "s = 'abc'\n",
    "print(s * 3)"
   ]
  },
  {
   "cell_type": "code",
   "execution_count": 24,
   "metadata": {},
   "outputs": [],
   "source": [
    "# Definition for singly-linked list.\n",
    "class ListNode:\n",
    "    def __init__(self, val=0, next=None):\n",
    "        self.val = val\n",
    "        self.next = next\n",
    "\n",
    "def addTwoNumbers(l1, l2):\n",
    "    def get_val(head):\n",
    "        acc = 0\n",
    "        ans = 0\n",
    "        while head:\n",
    "            ans += 10**acc*head.val\n",
    "            head = head.next\n",
    "            acc += 1\n",
    "        return ans\n",
    "    \n",
    "    def get_tree(num):\n",
    "        if num == 0:\n",
    "            return ListNode(0)\n",
    "        head = ListNode(num % 10)\n",
    "        curr = head\n",
    "        num //= 10\n",
    "        while num > 0:\n",
    "            curr.next = ListNode(num % 10)\n",
    "            curr = curr.next\n",
    "            num //= 10\n",
    "        return head\n",
    "    \n",
    "    n1 = get_val(l1)\n",
    "    n2 = get_val(l2)\n",
    "    print(n1, n2)\n",
    "    return get_tree(n1+n1)"
   ]
  },
  {
   "cell_type": "code",
   "execution_count": 25,
   "metadata": {},
   "outputs": [
    {
     "name": "stdout",
     "output_type": "stream",
     "text": [
      "342 465\n"
     ]
    },
    {
     "data": {
      "text/plain": [
       "<__main__.ListNode at 0x7fbb78e779d0>"
      ]
     },
     "execution_count": 25,
     "metadata": {},
     "output_type": "execute_result"
    }
   ],
   "source": [
    "l1 = ListNode(2)\n",
    "l1.next = ListNode(4)\n",
    "l1.next.next = ListNode(3)\n",
    "\n",
    "l2 = ListNode(5)\n",
    "l2.next = ListNode(6)\n",
    "l2.next.next = ListNode(4)\n",
    "\n",
    "addTwoNumbers(l1, l2)"
   ]
  },
  {
   "cell_type": "code",
   "execution_count": 30,
   "metadata": {},
   "outputs": [],
   "source": [
    "from collections import defaultdict\n",
    "\n",
    "def isIsomorphic(s: str, t: str) -> bool:\n",
    "    schars = defaultdict(int)\n",
    "    tchars = defaultdict(int)\n",
    "    for c in s:\n",
    "        schars[c] += 1\n",
    "    for c in t:\n",
    "        tchars[c] += 1\n",
    "    slist = list(schars.values()).sort()\n",
    "    tlist = list(tchars.values()).sort()\n",
    "    print(slist)\n",
    "    print(tlist)\n",
    "    return slist == tlist"
   ]
  },
  {
   "cell_type": "code",
   "execution_count": 31,
   "metadata": {},
   "outputs": [
    {
     "name": "stdout",
     "output_type": "stream",
     "text": [
      "None\n",
      "None\n"
     ]
    },
    {
     "data": {
      "text/plain": [
       "True"
      ]
     },
     "execution_count": 31,
     "metadata": {},
     "output_type": "execute_result"
    }
   ],
   "source": [
    "isIsomorphic(\"foo\", \"bar\")"
   ]
  },
  {
   "cell_type": "code",
   "execution_count": 3,
   "metadata": {},
   "outputs": [],
   "source": [
    "def myPow(x: float, n: int) -> float:\n",
    "    if n == 0:\n",
    "        return 1.\n",
    "    if n < 0:\n",
    "        x = 1./x\n",
    "        n = -n\n",
    "    if n == 1:\n",
    "        return x\n",
    "    \n",
    "    res = 1\n",
    "    while n > 0:\n",
    "        if n % 2 == 1:\n",
    "            res *= x\n",
    "            n -= 1\n",
    "            print(f\"res = {res} and n = {n}\")\n",
    "        else:\n",
    "            x *= x\n",
    "            n //= 2\n",
    "            print(f\"x = {x} and n = {n}\")\n",
    "    return res * x"
   ]
  },
  {
   "cell_type": "code",
   "execution_count": 4,
   "metadata": {},
   "outputs": [
    {
     "name": "stdout",
     "output_type": "stream",
     "text": [
      "x = 4.0 and n = 5\n",
      "res = 4.0 and n = 4\n",
      "x = 16.0 and n = 2\n",
      "x = 256.0 and n = 1\n",
      "res = 1024.0 and n = 0\n"
     ]
    },
    {
     "data": {
      "text/plain": [
       "262144.0"
      ]
     },
     "execution_count": 4,
     "metadata": {},
     "output_type": "execute_result"
    }
   ],
   "source": [
    "myPow(2.0, 10)"
   ]
  },
  {
   "cell_type": "code",
   "execution_count": 12,
   "metadata": {},
   "outputs": [],
   "source": [
    "def trailingZeroes( n: int) -> int:\n",
    "    odd = 1\n",
    "    k = n//2 - 1\n",
    "\n",
    "    if n%2 == 1:\n",
    "        odd = (n+1)//2\n",
    "\n",
    "    first = (k+1)*n\n",
    "    second = (n-1)*k*(k+1)//2\n",
    "    third = -k*(k+1)*(2*k-1)//6\n",
    "    fac = odd*(first + second + third)\n",
    "    fac = int(fac)\n",
    "    ans = 0\n",
    "    print(fac)\n",
    "    while fac > 0:\n",
    "        if fac % 10 == 0:\n",
    "            ans += 1\n",
    "        fac //= 10\n",
    "    return ans"
   ]
  },
  {
   "cell_type": "code",
   "execution_count": 12,
   "metadata": {},
   "outputs": [],
   "source": [
    "class Solution:\n",
    "    def calculate(self, s: str) -> int:\n",
    "        \n",
    "        import re\n",
    "        pattern = r'\\d+|[+*/()-]'\n",
    "        tokens = re.findall(pattern, s)\n",
    "        ops = ['+', '-', '*', '/']\n",
    "        \n",
    "        stack = deque()\n",
    "        operators = deque()\n",
    "        for token in tokens:\n",
    "            if token in ops:\n",
    "                operators.append(token)\n",
    "            elif token == '(':\n",
    "                stack.append(token)\n",
    "            elif token == ')':\n",
    "                while stack[-2] != '(':\n",
    "                    op1 = stack.pop()\n",
    "                    op2 = stack.pop()\n",
    "                    opr = operators.pop()\n",
    "                    if opr == '+':\n",
    "                        stack.append(op2+op1)\n",
    "                    elif opr == '-':\n",
    "                        stack.append(op2-op1)\n",
    "                    elif opr == '*':\n",
    "                        stack.append(op2*op1)\n",
    "                    elif opr == '/':\n",
    "                        stack.append(op2/op1)\n",
    "                op1 = stack.pop()\n",
    "                op2 = stack.pop()\n",
    "                stack.append(op1)\n",
    "            else:\n",
    "                stack.append(int(token))\n",
    "        print(f\"stack after insertion: {stack}\")\n",
    "        print(f\"operators after insertion: {operators}\")\n",
    "        while len(stack) > 1:\n",
    "            op1 = stack.popleft()\n",
    "            op2 = stack.popleft()\n",
    "            opr = operators.popleft()\n",
    "            if opr == '+':\n",
    "                stack.appendleft(op1+op2)\n",
    "            elif opr == '-':\n",
    "                stack.appendleft(op1-op2)\n",
    "            elif opr == '*':\n",
    "                stack.appendleft(op1*op2)\n",
    "            elif opr == '/':\n",
    "                stack.appendleft(op1/op1)\n",
    "        print(f\"stack after calcalation: {stack}\")     \n",
    "        print(f\"operators after calcalation: {operators}\")         \n",
    "        return stack[0]"
   ]
  },
  {
   "cell_type": "code",
   "execution_count": 13,
   "metadata": {},
   "outputs": [
    {
     "name": "stdout",
     "output_type": "stream",
     "text": [
      "stack after insertion: deque([2, 1, 2])\n",
      "operators after insertion: deque(['-', '+'])\n",
      "stack after calcalation: deque([3])\n",
      "operators after calcalation: deque([])\n"
     ]
    },
    {
     "data": {
      "text/plain": [
       "3"
      ]
     },
     "execution_count": 13,
     "metadata": {},
     "output_type": "execute_result"
    }
   ],
   "source": [
    "s = \" 2-1 + 2 \"\n",
    "cal = Solution()\n",
    "cal.calculate(s)"
   ]
  },
  {
   "cell_type": "code",
   "execution_count": 17,
   "metadata": {},
   "outputs": [],
   "source": [
    "import heapq\n",
    "class MedianFinder:\n",
    "\n",
    "    def __init__(self):\n",
    "        self.lo = []\n",
    "        self.hi = []\n",
    "\n",
    "    def addNum(self, num: int) -> None:\n",
    "        heapq.heappush(self.lo, -num)\n",
    "\n",
    "        if len(self.lo) > 1:\n",
    "            heapq.heappush(self.hi, -heapq.heappop(self.lo))\n",
    "        if len(self.hi) > len(self.lo):\n",
    "            heapq.heappush(self.lo, -heapq.heappop(self.hi))\n",
    "        \n",
    "        print(f'low heap is : {self.lo}')\n",
    "        print(f'high heap is: {self.hi}')\n",
    "\n",
    "    def findMedian(self) -> float:\n",
    "        if len(self.lo) > len(self.hi):\n",
    "            return -heapq.heappop(self.lo)\n",
    "        return (-heapq.heappop(self.lo) + heapq.heappop(self.hi))/2."
   ]
  },
  {
   "cell_type": "code",
   "execution_count": 18,
   "metadata": {},
   "outputs": [
    {
     "name": "stdout",
     "output_type": "stream",
     "text": [
      "low heap is : [-1]\n",
      "high heap is: []\n",
      "low heap is : [-1]\n",
      "high heap is: [2]\n",
      "low heap is : [-2, -1]\n",
      "high heap is: [3]\n"
     ]
    }
   ],
   "source": [
    "my = MedianFinder()\n",
    "my.addNum(1)\n",
    "my.addNum(2)\n",
    "my.addNum(3)"
   ]
  }
 ],
 "metadata": {
  "interpreter": {
   "hash": "e08ceab4126862489fa0aa1587748cccf75717cd3496db46aee2ccbbdd24659f"
  },
  "kernelspec": {
   "display_name": "Python 3.8.18 64-bit ('plasma': conda)",
   "name": "python3"
  },
  "language_info": {
   "codemirror_mode": {
    "name": "ipython",
    "version": 3
   },
   "file_extension": ".py",
   "mimetype": "text/x-python",
   "name": "python",
   "nbconvert_exporter": "python",
   "pygments_lexer": "ipython3",
   "version": "3.8.18"
  }
 },
 "nbformat": 4,
 "nbformat_minor": 5
}
