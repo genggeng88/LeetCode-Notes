{
 "cells": [
  {
   "cell_type": "code",
   "execution_count": 19,
   "metadata": {},
   "outputs": [],
   "source": [
    "def closeStrings(word1: str, word2: str) -> bool:\n",
    "        n1, n2 = len(word1), len(word2)\n",
    "        d1, d2 = dict(), dict()\n",
    "\n",
    "        for i in range(n1):\n",
    "            if word1[i] in d1:\n",
    "                d1[word1[i]] += 1\n",
    "            else:\n",
    "                d1[word1[i]] = 1\n",
    "\n",
    "        for i in range(n2):\n",
    "            if word2[i] in d2:\n",
    "                d2[word2[i]] += 1\n",
    "            else:\n",
    "                d2[word2[i]] = 1\n",
    "        \n",
    "        k1 = d1.keys()\n",
    "        k2 = d2.keys()\n",
    "\n",
    "        print(k1)\n",
    "        print(k2)\n",
    "        print(k1 == k2)\n",
    "\n",
    "        v1 = sorted(d1.values())\n",
    "        v2 = sorted(d2.values())\n",
    "\n",
    "        print(v1)\n",
    "        print(v2)\n",
    "\n",
    "        return v1 == v2"
   ]
  },
  {
   "cell_type": "code",
   "execution_count": 20,
   "metadata": {},
   "outputs": [
    {
     "name": "stdout",
     "output_type": "stream",
     "text": [
      "dict_keys(['a'])\n",
      "dict_keys(['a'])\n",
      "True\n",
      "[1]\n",
      "[2]\n"
     ]
    },
    {
     "data": {
      "text/plain": [
       "False"
      ]
     },
     "execution_count": 20,
     "metadata": {},
     "output_type": "execute_result"
    }
   ],
   "source": [
    "word1 = \"a\"\n",
    "word2 = \"aa\"\n",
    "closeStrings(word1=word1, word2=word2)"
   ]
  },
  {
   "cell_type": "code",
   "execution_count": 23,
   "metadata": {},
   "outputs": [
    {
     "name": "stdout",
     "output_type": "stream",
     "text": [
      "None\n"
     ]
    }
   ],
   "source": [
    "my_dict = {'a': 3, 'b': 1, 'c': 2}\n",
    "values = list(my_dict.values())  # Convert values to a list\n",
    "values.sort()  # Sort the list in place\n",
    "print(values)  # Output: [1, 2, 3]"
   ]
  },
  {
   "cell_type": "code",
   "execution_count": 1,
   "metadata": {},
   "outputs": [
    {
     "name": "stdout",
     "output_type": "stream",
     "text": [
      "abcabcabc\n"
     ]
    }
   ],
   "source": [
    "s = 'abc'\n",
    "print(s * 3)"
   ]
  },
  {
   "cell_type": "code",
   "execution_count": 24,
   "metadata": {},
   "outputs": [],
   "source": [
    "# Definition for singly-linked list.\n",
    "class ListNode:\n",
    "    def __init__(self, val=0, next=None):\n",
    "        self.val = val\n",
    "        self.next = next\n",
    "\n",
    "def addTwoNumbers(l1, l2):\n",
    "    def get_val(head):\n",
    "        acc = 0\n",
    "        ans = 0\n",
    "        while head:\n",
    "            ans += 10**acc*head.val\n",
    "            head = head.next\n",
    "            acc += 1\n",
    "        return ans\n",
    "    \n",
    "    def get_tree(num):\n",
    "        if num == 0:\n",
    "            return ListNode(0)\n",
    "        head = ListNode(num % 10)\n",
    "        curr = head\n",
    "        num //= 10\n",
    "        while num > 0:\n",
    "            curr.next = ListNode(num % 10)\n",
    "            curr = curr.next\n",
    "            num //= 10\n",
    "        return head\n",
    "    \n",
    "    n1 = get_val(l1)\n",
    "    n2 = get_val(l2)\n",
    "    print(n1, n2)\n",
    "    return get_tree(n1+n1)"
   ]
  },
  {
   "cell_type": "code",
   "execution_count": 25,
   "metadata": {},
   "outputs": [
    {
     "name": "stdout",
     "output_type": "stream",
     "text": [
      "342 465\n"
     ]
    },
    {
     "data": {
      "text/plain": [
       "<__main__.ListNode at 0x7fbb78e779d0>"
      ]
     },
     "execution_count": 25,
     "metadata": {},
     "output_type": "execute_result"
    }
   ],
   "source": [
    "l1 = ListNode(2)\n",
    "l1.next = ListNode(4)\n",
    "l1.next.next = ListNode(3)\n",
    "\n",
    "l2 = ListNode(5)\n",
    "l2.next = ListNode(6)\n",
    "l2.next.next = ListNode(4)\n",
    "\n",
    "addTwoNumbers(l1, l2)"
   ]
  },
  {
   "cell_type": "code",
   "execution_count": 30,
   "metadata": {},
   "outputs": [],
   "source": [
    "from collections import defaultdict\n",
    "\n",
    "def isIsomorphic(s: str, t: str) -> bool:\n",
    "    schars = defaultdict(int)\n",
    "    tchars = defaultdict(int)\n",
    "    for c in s:\n",
    "        schars[c] += 1\n",
    "    for c in t:\n",
    "        tchars[c] += 1\n",
    "    slist = list(schars.values()).sort()\n",
    "    tlist = list(tchars.values()).sort()\n",
    "    print(slist)\n",
    "    print(tlist)\n",
    "    return slist == tlist"
   ]
  },
  {
   "cell_type": "code",
   "execution_count": 31,
   "metadata": {},
   "outputs": [
    {
     "name": "stdout",
     "output_type": "stream",
     "text": [
      "None\n",
      "None\n"
     ]
    },
    {
     "data": {
      "text/plain": [
       "True"
      ]
     },
     "execution_count": 31,
     "metadata": {},
     "output_type": "execute_result"
    }
   ],
   "source": [
    "isIsomorphic(\"foo\", \"bar\")"
   ]
  }
 ],
 "metadata": {
  "interpreter": {
   "hash": "e08ceab4126862489fa0aa1587748cccf75717cd3496db46aee2ccbbdd24659f"
  },
  "kernelspec": {
   "display_name": "Python 3.8.18 64-bit ('plasma': conda)",
   "name": "python3"
  },
  "language_info": {
   "codemirror_mode": {
    "name": "ipython",
    "version": 3
   },
   "file_extension": ".py",
   "mimetype": "text/x-python",
   "name": "python",
   "nbconvert_exporter": "python",
   "pygments_lexer": "ipython3",
   "version": "3.8.18"
  }
 },
 "nbformat": 4,
 "nbformat_minor": 5
}
